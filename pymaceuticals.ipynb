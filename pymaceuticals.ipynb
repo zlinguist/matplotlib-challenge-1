{
 "cells": [
  {
   "cell_type": "markdown",
   "metadata": {},
   "source": [
    "## Observations and Insights"
   ]
  },
  {
   "cell_type": "markdown",
   "metadata": {},
   "source": [
    "Some Observations:\n",
    "\n",
    "1. The treatments with the largest inter-quartile variation in the treatments of interest are also those with the lowest final tumor volumes.\n",
    "\n",
    "2. The average tumor volume of the mice is highly positively correlated with the weight of the mice (pearson correlation coefficient = 0.84, slope of regression line = 0.95).\n",
    "\n",
    "3. Unless there is an error in my calculations and the data I collected, there are no potential outliers with respect to final tumor volume among any mice for any of the four treatments of interest (although they were formatted to appear as red dots if there were).  This suggests surprising consistency among these treatments."
   ]
  },
  {
   "cell_type": "markdown",
   "metadata": {},
   "source": [
    "## Dependencies and starter code"
   ]
  },
  {
   "cell_type": "code",
   "execution_count": 2,
   "metadata": {},
   "outputs": [
    {
     "data": {
      "text/html": [
       "<div>\n",
       "<style scoped>\n",
       "    .dataframe tbody tr th:only-of-type {\n",
       "        vertical-align: middle;\n",
       "    }\n",
       "\n",
       "    .dataframe tbody tr th {\n",
       "        vertical-align: top;\n",
       "    }\n",
       "\n",
       "    .dataframe thead th {\n",
       "        text-align: right;\n",
       "    }\n",
       "</style>\n",
       "<table border=\"1\" class=\"dataframe\">\n",
       "  <thead>\n",
       "    <tr style=\"text-align: right;\">\n",
       "      <th></th>\n",
       "      <th>Mouse ID</th>\n",
       "      <th>Drug Regimen</th>\n",
       "      <th>Sex</th>\n",
       "      <th>Age_months</th>\n",
       "      <th>Weight (g)</th>\n",
       "      <th>Timepoint</th>\n",
       "      <th>Tumor Volume (mm3)</th>\n",
       "      <th>Metastatic Sites</th>\n",
       "    </tr>\n",
       "  </thead>\n",
       "  <tbody>\n",
       "    <tr>\n",
       "      <th>0</th>\n",
       "      <td>k403</td>\n",
       "      <td>Ramicane</td>\n",
       "      <td>Male</td>\n",
       "      <td>21</td>\n",
       "      <td>16</td>\n",
       "      <td>0</td>\n",
       "      <td>45.000000</td>\n",
       "      <td>0</td>\n",
       "    </tr>\n",
       "    <tr>\n",
       "      <th>1</th>\n",
       "      <td>k403</td>\n",
       "      <td>Ramicane</td>\n",
       "      <td>Male</td>\n",
       "      <td>21</td>\n",
       "      <td>16</td>\n",
       "      <td>5</td>\n",
       "      <td>38.825898</td>\n",
       "      <td>0</td>\n",
       "    </tr>\n",
       "    <tr>\n",
       "      <th>2</th>\n",
       "      <td>k403</td>\n",
       "      <td>Ramicane</td>\n",
       "      <td>Male</td>\n",
       "      <td>21</td>\n",
       "      <td>16</td>\n",
       "      <td>10</td>\n",
       "      <td>35.014271</td>\n",
       "      <td>1</td>\n",
       "    </tr>\n",
       "    <tr>\n",
       "      <th>3</th>\n",
       "      <td>k403</td>\n",
       "      <td>Ramicane</td>\n",
       "      <td>Male</td>\n",
       "      <td>21</td>\n",
       "      <td>16</td>\n",
       "      <td>15</td>\n",
       "      <td>34.223992</td>\n",
       "      <td>1</td>\n",
       "    </tr>\n",
       "    <tr>\n",
       "      <th>4</th>\n",
       "      <td>k403</td>\n",
       "      <td>Ramicane</td>\n",
       "      <td>Male</td>\n",
       "      <td>21</td>\n",
       "      <td>16</td>\n",
       "      <td>20</td>\n",
       "      <td>32.997729</td>\n",
       "      <td>1</td>\n",
       "    </tr>\n",
       "  </tbody>\n",
       "</table>\n",
       "</div>"
      ],
      "text/plain": [
       "  Mouse ID Drug Regimen   Sex  Age_months  Weight (g)  Timepoint  \\\n",
       "0     k403     Ramicane  Male          21          16          0   \n",
       "1     k403     Ramicane  Male          21          16          5   \n",
       "2     k403     Ramicane  Male          21          16         10   \n",
       "3     k403     Ramicane  Male          21          16         15   \n",
       "4     k403     Ramicane  Male          21          16         20   \n",
       "\n",
       "   Tumor Volume (mm3)  Metastatic Sites  \n",
       "0           45.000000                 0  \n",
       "1           38.825898                 0  \n",
       "2           35.014271                 1  \n",
       "3           34.223992                 1  \n",
       "4           32.997729                 1  "
      ]
     },
     "execution_count": 2,
     "metadata": {},
     "output_type": "execute_result"
    }
   ],
   "source": [
    "# Dependencies and Setup\n",
    "import matplotlib.pyplot as plt\n",
    "import pandas as pd\n",
    "import scipy.stats as st\n",
    "import numpy as np\n",
    "\n",
    "# Study data files\n",
    "mouse_metadata = \"data/Mouse_metadata.csv\"\n",
    "study_results = \"data/Study_results.csv\"\n",
    "\n",
    "# Read the mouse data and the study results\n",
    "mouse_metadata = pd.read_csv(mouse_metadata)\n",
    "study_results = pd.read_csv(study_results)\n",
    "\n",
    "# Combine the data into a single dataset\n",
    "\n",
    "# mouse_metadata.head()\n",
    "# study_results.head()\n",
    "\n",
    "df = pd.merge(mouse_metadata, study_results, how='inner', on = 'Mouse ID')\n",
    "df.head()"
   ]
  },
  {
   "cell_type": "markdown",
   "metadata": {},
   "source": [
    "## Summary statistics"
   ]
  },
  {
   "cell_type": "code",
   "execution_count": 3,
   "metadata": {
    "scrolled": true
   },
   "outputs": [
    {
     "data": {
      "text/html": [
       "<div>\n",
       "<style scoped>\n",
       "    .dataframe tbody tr th:only-of-type {\n",
       "        vertical-align: middle;\n",
       "    }\n",
       "\n",
       "    .dataframe tbody tr th {\n",
       "        vertical-align: top;\n",
       "    }\n",
       "\n",
       "    .dataframe thead th {\n",
       "        text-align: right;\n",
       "    }\n",
       "</style>\n",
       "<table border=\"1\" class=\"dataframe\">\n",
       "  <thead>\n",
       "    <tr style=\"text-align: right;\">\n",
       "      <th></th>\n",
       "      <th>Mean Tumor Volume</th>\n",
       "      <th>Median Tumor Volume</th>\n",
       "      <th>Variance of Tumor Volume</th>\n",
       "      <th>Standard Deviation of Tumor Volume</th>\n",
       "      <th>SEM Value of Tumor Volume</th>\n",
       "    </tr>\n",
       "    <tr>\n",
       "      <th>Drug Regimen</th>\n",
       "      <th></th>\n",
       "      <th></th>\n",
       "      <th></th>\n",
       "      <th></th>\n",
       "      <th></th>\n",
       "    </tr>\n",
       "  </thead>\n",
       "  <tbody>\n",
       "    <tr>\n",
       "      <th>Capomulin</th>\n",
       "      <td>40.675741</td>\n",
       "      <td>41.557809</td>\n",
       "      <td>24.947764</td>\n",
       "      <td>4.983904</td>\n",
       "      <td>0.329346</td>\n",
       "    </tr>\n",
       "    <tr>\n",
       "      <th>Ceftamin</th>\n",
       "      <td>52.591172</td>\n",
       "      <td>51.776157</td>\n",
       "      <td>39.290177</td>\n",
       "      <td>6.250556</td>\n",
       "      <td>0.469821</td>\n",
       "    </tr>\n",
       "    <tr>\n",
       "      <th>Infubinol</th>\n",
       "      <td>52.884795</td>\n",
       "      <td>51.820584</td>\n",
       "      <td>43.128684</td>\n",
       "      <td>6.548770</td>\n",
       "      <td>0.492236</td>\n",
       "    </tr>\n",
       "    <tr>\n",
       "      <th>Ketapril</th>\n",
       "      <td>55.235638</td>\n",
       "      <td>53.698743</td>\n",
       "      <td>68.553577</td>\n",
       "      <td>8.257659</td>\n",
       "      <td>0.603860</td>\n",
       "    </tr>\n",
       "    <tr>\n",
       "      <th>Naftisol</th>\n",
       "      <td>54.331565</td>\n",
       "      <td>52.509285</td>\n",
       "      <td>66.173479</td>\n",
       "      <td>8.112811</td>\n",
       "      <td>0.596466</td>\n",
       "    </tr>\n",
       "    <tr>\n",
       "      <th>Placebo</th>\n",
       "      <td>54.033581</td>\n",
       "      <td>52.288934</td>\n",
       "      <td>61.168083</td>\n",
       "      <td>7.799368</td>\n",
       "      <td>0.581331</td>\n",
       "    </tr>\n",
       "    <tr>\n",
       "      <th>Propriva</th>\n",
       "      <td>52.322552</td>\n",
       "      <td>50.854632</td>\n",
       "      <td>42.351070</td>\n",
       "      <td>6.487528</td>\n",
       "      <td>0.512884</td>\n",
       "    </tr>\n",
       "    <tr>\n",
       "      <th>Ramicane</th>\n",
       "      <td>40.216745</td>\n",
       "      <td>40.673236</td>\n",
       "      <td>23.486704</td>\n",
       "      <td>4.835669</td>\n",
       "      <td>0.320955</td>\n",
       "    </tr>\n",
       "    <tr>\n",
       "      <th>Stelasyn</th>\n",
       "      <td>54.233149</td>\n",
       "      <td>52.431737</td>\n",
       "      <td>59.450562</td>\n",
       "      <td>7.689090</td>\n",
       "      <td>0.573111</td>\n",
       "    </tr>\n",
       "    <tr>\n",
       "      <th>Zoniferol</th>\n",
       "      <td>53.236507</td>\n",
       "      <td>51.818479</td>\n",
       "      <td>48.533355</td>\n",
       "      <td>6.947423</td>\n",
       "      <td>0.516398</td>\n",
       "    </tr>\n",
       "  </tbody>\n",
       "</table>\n",
       "</div>"
      ],
      "text/plain": [
       "              Mean Tumor Volume  Median Tumor Volume  \\\n",
       "Drug Regimen                                           \n",
       "Capomulin             40.675741            41.557809   \n",
       "Ceftamin              52.591172            51.776157   \n",
       "Infubinol             52.884795            51.820584   \n",
       "Ketapril              55.235638            53.698743   \n",
       "Naftisol              54.331565            52.509285   \n",
       "Placebo               54.033581            52.288934   \n",
       "Propriva              52.322552            50.854632   \n",
       "Ramicane              40.216745            40.673236   \n",
       "Stelasyn              54.233149            52.431737   \n",
       "Zoniferol             53.236507            51.818479   \n",
       "\n",
       "              Variance of Tumor Volume  Standard Deviation of Tumor Volume  \\\n",
       "Drug Regimen                                                                 \n",
       "Capomulin                    24.947764                            4.983904   \n",
       "Ceftamin                     39.290177                            6.250556   \n",
       "Infubinol                    43.128684                            6.548770   \n",
       "Ketapril                     68.553577                            8.257659   \n",
       "Naftisol                     66.173479                            8.112811   \n",
       "Placebo                      61.168083                            7.799368   \n",
       "Propriva                     42.351070                            6.487528   \n",
       "Ramicane                     23.486704                            4.835669   \n",
       "Stelasyn                     59.450562                            7.689090   \n",
       "Zoniferol                    48.533355                            6.947423   \n",
       "\n",
       "              SEM Value of Tumor Volume  \n",
       "Drug Regimen                             \n",
       "Capomulin                      0.329346  \n",
       "Ceftamin                       0.469821  \n",
       "Infubinol                      0.492236  \n",
       "Ketapril                       0.603860  \n",
       "Naftisol                       0.596466  \n",
       "Placebo                        0.581331  \n",
       "Propriva                       0.512884  \n",
       "Ramicane                       0.320955  \n",
       "Stelasyn                       0.573111  \n",
       "Zoniferol                      0.516398  "
      ]
     },
     "execution_count": 3,
     "metadata": {},
     "output_type": "execute_result"
    }
   ],
   "source": [
    "# Generate a summary statistics table of mean, median, variance, standard deviation, and SEM of the tumor volume for each regimen\n",
    "\n",
    "grouped_df = df.groupby([\"Drug Regimen\"])\n",
    "# grouped_df.head()\n",
    "\n",
    "mean_vol = grouped_df[\"Tumor Volume (mm3)\"].mean()\n",
    "median_vol = grouped_df[\"Tumor Volume (mm3)\"].median()\n",
    "variance_vol = grouped_df[\"Tumor Volume (mm3)\"].var()\n",
    "stdev_vol = grouped_df[\"Tumor Volume (mm3)\"].apply(lambda x: np.std(x, ddof = 0))\n",
    "sem_vol = grouped_df[\"Tumor Volume (mm3)\"].apply(lambda x: st.sem(x))\n",
    "\n",
    "summary_stat_df = pd.DataFrame({\n",
    "    \"Mean Tumor Volume\": mean_vol,\n",
    "    \"Median Tumor Volume\": median_vol,\n",
    "    \"Variance of Tumor Volume\": variance_vol,\n",
    "    \"Standard Deviation of Tumor Volume\": stdev_vol,\n",
    "    \"SEM Value of Tumor Volume\": sem_vol\n",
    "})\n",
    "\n",
    "summary_stat_df\n"
   ]
  },
  {
   "cell_type": "markdown",
   "metadata": {},
   "source": [
    "## Bar plots"
   ]
  },
  {
   "cell_type": "code",
   "execution_count": 11,
   "metadata": {},
   "outputs": [
    {
     "data": {
      "text/plain": [
       "Text(0, 0.5, 'Data Points')"
      ]
     },
     "execution_count": 11,
     "metadata": {},
     "output_type": "execute_result"
    },
    {
     "data": {
      "image/png": "[encoded data removed]",
      "text/plain": [
       "<Figure size 432x288 with 1 Axes>"
      ]
     },
     "metadata": {
      "needs_background": "light"
     },
     "output_type": "display_data"
    }
   ],
   "source": [
    "# Generate a bar plot showing number of data points for each treatment regimen using pandas\n",
    "\n",
    "counts = grouped_df[\"Mouse ID\"].count()\n",
    "# counts\n",
    "counts.tolist()\n",
    "\n",
    "count_plot = counts.plot.bar(title=\"Number of Data Points per Treatment Regimen\")\n",
    "count_plot.set_ylabel(\"Data Points\")"
   ]
  },
  {
   "cell_type": "code",
   "execution_count": 14,
   "metadata": {},
   "outputs": [
    {
     "data": {
      "image/png": "[encoded data removed]",
      "text/plain": [
       "<Figure size 432x288 with 1 Axes>"
      ]
     },
     "metadata": {
      "needs_background": "light"
     },
     "output_type": "display_data"
    }
   ],
   "source": [
    "# Generate a bar plot showing number of data points for each treatment regimen using pyplot\n",
    "\n",
    "grouped_df.count()[\"Mouse ID\"]\n",
    "\n",
    "plt.bar(counts.axes[0], counts.tolist(), width=0.55)\n",
    "plt.xticks(rotation=90)\n",
    "plt.title(\"Number of Data Points per Treatment Regimen\")\n",
    "plt.xlabel(\"Drug Regimen\")\n",
    "plt.ylabel(\"Data Points\")\n",
    "plt.show()"
   ]
  },
  {
   "cell_type": "markdown",
   "metadata": {},
   "source": [
    "## Pie plots"
   ]
  },
  {
   "cell_type": "code",
   "execution_count": 22,
   "metadata": {
    "scrolled": true
   },
   "outputs": [
    {
     "data": {
      "text/plain": [
       "Text(0, 0.5, '')"
      ]
     },
     "execution_count": 22,
     "metadata": {},
     "output_type": "execute_result"
    },
    {
     "data": {
      "image/png": "[encoded data removed]",
      "text/plain": [
       "<Figure size 432x288 with 1 Axes>"
      ]
     },
     "metadata": {},
     "output_type": "display_data"
    }
   ],
   "source": [
    "# Generate a pie plot showing the distribution of female versus male mice using pandas\n",
    "\n",
    "gender_group = df.groupby([\"Sex\"])\n",
    "gender_group.count()\n",
    "\n",
    "plot = gender_group.count()[\"Mouse ID\"].plot.pie(title=\"Distribution of Female vs. Male Mice in the Study\")\n",
    "plot.set_ylabel(\"\")"
   ]
  },
  {
   "cell_type": "code",
   "execution_count": 23,
   "metadata": {},
   "outputs": [
    {
     "data": {
      "image/png": "[encoded data removed]",
      "text/plain": [
       "<Figure size 432x288 with 1 Axes>"
      ]
     },
     "metadata": {},
     "output_type": "display_data"
    }
   ],
   "source": [
    "# Generate a pie plot showing the distribution of female versus male mice using pyplot\n",
    "\n",
    "plt.pie(gender_group.count()[\"Mouse ID\"].tolist(), labels=[\"Female\", \"Male\"])\n",
    "plt.title(\"Distribution of Female vs. Male Mice in the Study\")\n",
    "plt.show()"
   ]
  },
  {
   "cell_type": "markdown",
   "metadata": {},
   "source": [
    "## Quartiles, outliers and boxplots"
   ]
  },
  {
   "cell_type": "code",
   "execution_count": 32,
   "metadata": {
    "scrolled": true
   },
   "outputs": [
    {
     "name": "stdout",
     "output_type": "stream",
     "text": [
      "The interquartile range of final tumor volume for the Capomulin treatment is: 5.3560372749999985\n",
      "There are 0 potential Capomulin outliers\n",
      "\n",
      "The interquartile range of final tumor volume for the Ceftamin treatment is: 2.215460387500002\n",
      "There are 0 potential Ceftamin outliers\n",
      "\n",
      "The interquartile range of final tumor volume for the Infubinol treatment is: 2.9060958724999963\n",
      "There are 0 potential Infubinol outliers\n",
      "\n",
      "The interquartile range of final tumor volume for the Ramicane treatment is: 5.462883935000001\n",
      "There are 0 potential Ramicane outliers\n"
     ]
    }
   ],
   "source": [
    "# Calculate the final tumor volume of each mouse across four of the most promising treatment regimens. Calculate the IQR and quantitatively determine if there are any potential outliers. \n",
    "\n",
    "\n",
    "df_values = df.values\n",
    "df_values[0][1]\n",
    "\n",
    "treatments = [\"Capomulin\", \"Ceftamin\", \"Infubinol\", \"Ramicane\"]\n",
    "final_vols = {}\n",
    "\n",
    "for treatment in treatments:\n",
    "    final_vols[treatment] = []\n",
    "    for x in range(0, len(df_values)):\n",
    "        if df_values[x][1] == treatment and df_values[x][5] == 20:\n",
    "            final_vols[treatment].append(df_values[x][6])\n",
    "\n",
    "\n",
    "            \n",
    "# all_weights = []\n",
    "\n",
    "# for treatment in treatments:\n",
    "#     for weight in final_weights[treatment]:\n",
    "#         all_weights.append(weight)\n",
    "\n",
    "\n",
    "# weights_df = pd.DataFrame(all_weights)[0]\n",
    "\n",
    "cap_volume = []\n",
    "cef_volume = []\n",
    "inf_volume = []\n",
    "ram_volume = []\n",
    "\n",
    "for treatment in treatments:\n",
    "    for volume in final_vols[treatment]:\n",
    "        if treatment == \"Capomulin\":\n",
    "            cap_volume.append(volume)\n",
    "        elif treatment == \"Ceftamin\":\n",
    "            cef_volume.append(volume)\n",
    "        elif treatment == \"Infubinol\":\n",
    "            inf_volume.append(volume)\n",
    "        elif treatment == \"Ramicane\":\n",
    "            ram_volume.append(volume)\n",
    "        else:\n",
    "            print(treatment)\n",
    "            \n",
    "            \n",
    "cap_df = pd.DataFrame(cap_volume)[0]\n",
    "cef_df = pd.DataFrame(cef_volume)[0]\n",
    "inf_df = pd.DataFrame(inf_volume)[0]\n",
    "ram_df = pd.DataFrame(ram_volume)[0]\n",
    "\n",
    "cap_quartiles = cap_df.quantile([.25,.5,.75])\n",
    "cap_lowerq = cap_quartiles[0.25]\n",
    "cap_upperq = cap_quartiles[0.75]\n",
    "cap_iqr = cap_upperq-cap_lowerq\n",
    "\n",
    "print(f\"The interquartile range of final tumor volume for the Capomulin treatment is: {cap_iqr}\")\n",
    "\n",
    "cap_outliers = []\n",
    "\n",
    "# print(cap_quartiles)\n",
    "# print(cap_lowerq - (1.5*cap_iqr))\n",
    "# print(cap_volume)\n",
    "\n",
    "for volume in cap_volume:\n",
    "    if (volume < (cap_lowerq - (1.5*cap_iqr))) or (volume > (cap_upperq + (1.5*cap_iqr))):\n",
    "        cap_outliers.append(weight)\n",
    "        \n",
    "print(f\"There are {len(cap_outliers)} potential Capomulin outliers\")\n",
    "print()\n",
    "\n",
    "\n",
    "cef_quartiles = cef_df.quantile([.25,.5,.75])\n",
    "cef_lowerq = cef_quartiles[0.25]\n",
    "cef_upperq = cef_quartiles[0.75]\n",
    "cef_iqr = cef_upperq-cef_lowerq\n",
    "\n",
    "\n",
    "print(f\"The interquartile range of final tumor volume for the Ceftamin treatment is: {cef_iqr}\")\n",
    "\n",
    "\n",
    "cef_outliers = []\n",
    "\n",
    "for weight in cef_weights:\n",
    "    if (weight < (cef_lowerq - (1.5*cef_iqr))) or (weight > (cef_upperq + (1.5*cef_iqr))):\n",
    "        cef_outliers.append(weight)\n",
    "        \n",
    "print(f\"There are {len(cef_outliers)} potential Ceftamin outliers\")\n",
    "print()\n",
    "\n",
    "\n",
    "inf_quartiles = inf_df.quantile([.25,.5,.75])\n",
    "inf_lowerq = inf_quartiles[0.25]\n",
    "inf_upperq = inf_quartiles[0.75]\n",
    "inf_iqr = inf_upperq-inf_lowerq\n",
    "\n",
    "\n",
    "print(f\"The interquartile range of final tumor volume for the Infubinol treatment is: {inf_iqr}\")\n",
    "\n",
    "\n",
    "inf_outliers = []\n",
    "\n",
    "for weight in inf_weights:\n",
    "    if (weight < (inf_lowerq - (1.5*inf_iqr))) or (weight > (inf_upperq + (1.5*inf_iqr))):\n",
    "        inf_outliers.append(weight)\n",
    "        \n",
    "print(f\"There are {len(inf_outliers)} potential Infubinol outliers\")\n",
    "print()\n",
    "\n",
    "\n",
    "\n",
    "\n",
    "ram_quartiles = ram_df.quantile([.25,.5,.75])\n",
    "ram_lowerq = ram_quartiles[0.25]\n",
    "ram_upperq = ram_quartiles[0.75]\n",
    "ram_iqr = ram_upperq-ram_lowerq\n",
    "\n",
    "\n",
    "print(f\"The interquartile range of final tumor volume for the Ramicane treatment is: {ram_iqr}\")\n",
    "\n",
    "ram_outliers = []\n",
    "\n",
    "for weight in ram_weights:\n",
    "    if (weight < (ram_lowerq - (1.5*ram_iqr))) or (weight > (ram_upperq + (1.5*ram_iqr))):\n",
    "        ram_outliers.append(weight)\n",
    "        \n",
    "print(f\"There are {len(ram_outliers)} potential Ramicane outliers\")\n",
    "\n"
   ]
  },
  {
   "cell_type": "code",
   "execution_count": 33,
   "metadata": {},
   "outputs": [
    {
     "data": {
      "image/png": "[encoded data removed]",
      "text/plain": [
       "<Figure size 432x288 with 4 Axes>"
      ]
     },
     "metadata": {
      "needs_background": "light"
     },
     "output_type": "display_data"
    }
   ],
   "source": [
    "# Generate a box plot of the final tumor volume of each mouse across four regimens of interest\n",
    "\n",
    "fig, ((ax1, ax2), (ax3, ax4)) = plt.subplots(2, 2)\n",
    "fig.suptitle('Final Tumor Volumes (mm3) across 4 Promising Treatments')\n",
    "ax1.boxplot(cap_df, sym=\"r.\")\n",
    "ax1.set_title(\"Capomulin\")\n",
    "ax1.set_xticks([])\n",
    "ax2.boxplot(cef_df, sym=\"r.\")\n",
    "ax2.set_title(\"Ceftamin\")\n",
    "ax2.set_xticks([])\n",
    "ax3.boxplot(inf_df, sym=\"r.\")\n",
    "ax3.set_title(\"Infubinol\")\n",
    "ax3.set_xticks([])\n",
    "ax4.boxplot(ram_df, sym=\"r.\")\n",
    "ax4.set_title(\"Ramicane\")\n",
    "ax4.set_xticks([])\n",
    "plt.show()"
   ]
  },
  {
   "cell_type": "markdown",
   "metadata": {},
   "source": [
    "## Line and scatter plots"
   ]
  },
  {
   "cell_type": "code",
   "execution_count": 24,
   "metadata": {},
   "outputs": [
    {
     "data": {
      "image/png": "[encoded data removed]",
      "text/plain": [
       "<Figure size 432x288 with 1 Axes>"
      ]
     },
     "metadata": {
      "needs_background": "light"
     },
     "output_type": "display_data"
    }
   ],
   "source": [
    "# Generate a line plot of time point versus tumor volume for a mouse treated with Capomulin\n",
    "\n",
    "cap_df = df.loc[df[\"Drug Regimen\"] == \"Capomulin\"]\n",
    "cap_sample = cap_df[:5].values\n",
    "cap_sample\n",
    "times = [cap_sample[x][-3] for x in range(0, len(cap_sample))]\n",
    "volumes = [cap_sample[x][-2] for x in range(0, len(cap_sample))]\n",
    "plt.plot(times, volumes)\n",
    "plt.title(\"Tumor Volume over Treatment Time for one Capomulin Mouse\")\n",
    "plt.xlabel(\"Time Point\")\n",
    "plt.ylabel(\"Tumor Volume (mm3)\")\n",
    "plt.show()"
   ]
  },
  {
   "cell_type": "code",
   "execution_count": 25,
   "metadata": {},
   "outputs": [
    {
     "data": {
      "image/png": "[encoded data removed]",
      "text/plain": [
       "<Figure size 432x288 with 1 Axes>"
      ]
     },
     "metadata": {
      "needs_background": "light"
     },
     "output_type": "display_data"
    }
   ],
   "source": [
    "# Generate a scatter plot of mouse weight versus average tumor volume for the Capomulin regimen\n",
    "\n",
    "cap_mean_df = cap_df.groupby(\"Mouse ID\").mean()\n",
    "cap_mean = cap_mean_df.values\n",
    "weights = [cap_mean[x][1] for x in range(0, len(cap_mean))]\n",
    "volumes = [cap_mean[x][-2] for x in range(0, len(cap_mean))]\n",
    "plt.scatter(weights, volumes)\n",
    "plt.title(\"Mouse Weight vs. Average Tumor Volume for Capomulin Treatment\")\n",
    "plt.xlabel(\"Weight (g)\")\n",
    "plt.ylabel(\"Average Tumor Volume (mm3)\")\n",
    "plt.show()"
   ]
  },
  {
   "cell_type": "code",
   "execution_count": 26,
   "metadata": {
    "scrolled": true
   },
   "outputs": [
    {
     "name": "stdout",
     "output_type": "stream",
     "text": [
      "The correlation between both factors is 0.84\n",
      "y = 0.95x + 21.55\n"
     ]
    },
    {
     "data": {
      "image/png": "[encoded data removed]",
      "text/plain": [
       "<Figure size 432x288 with 1 Axes>"
      ]
     },
     "metadata": {
      "needs_background": "light"
     },
     "output_type": "display_data"
    }
   ],
   "source": [
    "# Calculate the correlation coefficient and linear regression model for mouse weight and average tumor volume for the Capomulin regimen\n",
    "\n",
    "# correlation:\n",
    "\n",
    "correlation = st.pearsonr(weights, volumes)\n",
    "print(f\"The correlation between both factors is {round(correlation[0],2)}\")\n",
    "\n",
    "# regression:\n",
    "\n",
    "from scipy.stats import linregress\n",
    "\n",
    "(slope, intercept, rvalue, pvalue, stderr) = linregress(weights, volumes)\n",
    "regress_values = [weight * slope + intercept for weight in weights]\n",
    "line_eq = \"y = \" + str(round(slope,2)) + \"x + \" + str(round(intercept,2))\n",
    "# line_eq\n",
    "print(line_eq)\n",
    "plt.scatter(weights,volumes)\n",
    "plt.plot(weights,regress_values,\"r-\")\n",
    "plt.title(\"Mouse Weight vs. Average Tumor Volume for Capomulin Treatment\")\n",
    "plt.xlabel('Mouse Weight (g)')\n",
    "plt.ylabel('Average Tumor Volume (mm3)')\n",
    "plt.show()"
   ]
  }
 ],
 "metadata": {
  "anaconda-cloud": {},
  "kernelspec": {
   "display_name": "Python 3",
   "language": "python",
   "name": "python3"
  },
  "language_info": {
   "codemirror_mode": {
    "name": "ipython",
    "version": 3
   },
   "file_extension": ".py",
   "mimetype": "text/x-python",
   "name": "python",
   "nbconvert_exporter": "python",
   "pygments_lexer": "ipython3",
   "version": "3.8.1"
  }
 },
 "nbformat": 4,
 "nbformat_minor": 2
}
